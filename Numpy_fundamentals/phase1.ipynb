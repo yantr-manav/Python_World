{
 "cells": [
  {
   "cell_type": "markdown",
   "id": "a66dbfab",
   "metadata": {},
   "source": [
    "## Phase-1 :  Learn about Numpy basics\n"
   ]
  },
  {
   "cell_type": "code",
   "execution_count": 2,
   "id": "26b8c04f",
   "metadata": {},
   "outputs": [],
   "source": [
    "\n",
    "import numpy as np"
   ]
  },
  {
   "cell_type": "markdown",
   "id": "841e8c33",
   "metadata": {},
   "source": [
    "## Creating array from List\n"
   ]
  },
  {
   "cell_type": "code",
   "execution_count": 3,
   "id": "4200555e",
   "metadata": {},
   "outputs": [
    {
     "name": "stdout",
     "output_type": "stream",
     "text": [
      "1D array: [1 2 3 4 5]\n",
      "2D array: [[1 2 3]\n",
      " [4 5 6]]\n"
     ]
    }
   ],
   "source": [
    "arr_1d = np.array([1,2,3,4,5])\n",
    "print(\"1D array:\",arr_1d)\n",
    "\n",
    "arr_2d = np.array([[1,2,3],[4,5,6]])\n",
    "print(\"2D array:\",arr_2d)"
   ]
  },
  {
   "cell_type": "markdown",
   "id": "46c102bb",
   "metadata": {},
   "source": [
    "##  List vs Numpy"
   ]
  },
  {
   "cell_type": "code",
   "execution_count": 5,
   "id": "65ae7e88",
   "metadata": {},
   "outputs": [
    {
     "name": "stdout",
     "output_type": "stream",
     "text": [
      "python list multiplication [1, 2, 3, 1, 2, 3]\n",
      "numpy array multiplication [2 4 6]\n",
      "\n",
      " List operation time 0.048150062561035156\n",
      "\n",
      " Numpy operation time 0.0036716461181640625\n"
     ]
    }
   ],
   "source": [
    "py_list = [1,2,3]\n",
    "print(\"python list multiplication\",py_list *2) \n",
    "\n",
    "\n",
    "np_array = np.array([1,2,3]) # element wise multiplication\n",
    "print(\"numpy array multiplication\",np_array *2)\n",
    "\n",
    "import time\n",
    "start = time.time()\n",
    "py_list = [i*2 for i in range(1000000)]\n",
    "print(\"\\n List operation time\",time.time()-start)\n",
    "\n",
    "start = time.time()\n",
    "np_array = np.arange(1000000)*2\n",
    "print(\"\\n Numpy operation time\",time.time()-start)"
   ]
  },
  {
   "cell_type": "markdown",
   "id": "20662c8f",
   "metadata": {},
   "source": [
    "# Creating array from scratch"
   ]
  },
  {
   "cell_type": "code",
   "execution_count": 6,
   "id": "b3b174d6",
   "metadata": {},
   "outputs": [
    {
     "name": "stdout",
     "output_type": "stream",
     "text": [
      "Zeros array:\n",
      " [[0. 0. 0. 0.]\n",
      " [0. 0. 0. 0.]\n",
      " [0. 0. 0. 0.]]\n",
      "Ones array:\n",
      " [[1. 1. 1. 1.]\n",
      " [1. 1. 1. 1.]\n",
      " [1. 1. 1. 1.]]\n",
      "Full array:\n",
      " [[7 7]\n",
      " [7 7]]\n",
      "Random array:\n",
      " [[0.74281458 0.50770982 0.15617057]\n",
      " [0.64148059 0.13772897 0.04997334]]\n",
      "Sequence [0 2 4 6 8]\n"
     ]
    }
   ],
   "source": [
    "import math\n",
    "zeros = np.zeros((3,4))\n",
    "print(\"Zeros array:\\n\",zeros)\n",
    "ones = np.ones((3,4))\n",
    "print(\"Ones array:\\n\",ones)\n",
    "\n",
    "full = np.full((2,2),7)\n",
    "print(\"Full array:\\n\",full)\n",
    "\n",
    "random = np.random.random((2,3))\n",
    "print(\"Random array:\\n\",(random))\n",
    "\n",
    "\n",
    "seq = np.arange(0,10,2)\n",
    "print(\"Sequence\",seq)"
   ]
  },
  {
   "cell_type": "markdown",
   "id": "b48b8d4b",
   "metadata": {},
   "source": [
    "## Vector, Matrix and Tensor\n"
   ]
  },
  {
   "cell_type": "code",
   "execution_count": 7,
   "id": "02c0db15",
   "metadata": {},
   "outputs": [
    {
     "name": "stdout",
     "output_type": "stream",
     "text": [
      "Vector:  [1 2 3]\n",
      "matrix:  [[1 2 3]\n",
      " [4 5 6]]\n",
      "\n",
      " tensor:  [[ 1  2]\n",
      " [ 4  5]\n",
      " [ 7  9]\n",
      " [10 12]\n",
      " [13 15]]\n"
     ]
    }
   ],
   "source": [
    "vector = np.array([1,2,3])\n",
    "print(\"Vector: \",vector)\n",
    "\n",
    "matrix = np.array([[1,2,3],[4,5,6]])\n",
    "print(\"matrix: \",matrix)\n",
    "\n",
    "tensor = np.array([[1,2],[4,5],[7,9],[10,12],[13,15]])\n",
    "print(\"\\n tensor: \",tensor)"
   ]
  },
  {
   "cell_type": "markdown",
   "id": "14d40aa5",
   "metadata": {},
   "source": [
    "## Array Properties"
   ]
  },
  {
   "cell_type": "code",
   "execution_count": null,
   "id": "5a7a5ffb",
   "metadata": {},
   "outputs": [
    {
     "name": "stdout",
     "output_type": "stream",
     "text": [
      "Shape (3, 3)\n",
      "Dimension 2\n",
      "Size 9\n",
      "Data Type int64\n"
     ]
    }
   ],
   "source": [
    "arr = np.array([[1,2,3],\n",
    "                [4,5,6] ,\n",
    "                [7,8,9]])   \n",
    "print(\"Shape\",arr.shape)\n",
    "print(\"Dimension\",arr.ndim)\n",
    "print(\"Size\",arr.size)\n",
    "print(\"Data Type\",arr.dtype)"
   ]
  },
  {
   "cell_type": "markdown",
   "id": "b41b31b1",
   "metadata": {},
   "source": [
    "## Array reshaping"
   ]
  },
  {
   "cell_type": "code",
   "execution_count": 21,
   "id": "eb9cf43c",
   "metadata": {},
   "outputs": [
    {
     "name": "stdout",
     "output_type": "stream",
     "text": [
      "Original array [ 0  1  2  3  4  5  6  7  8  9 10 11]\n",
      "\n",
      " Reshaped array [[ 0  1  2  3]\n",
      " [ 4  5  6  7]\n",
      " [ 8  9 10 11]]\n",
      "\n",
      " Flattened array [ 0  1  2  3  4  5  6  7  8  9 10 11]\n",
      "Raveled array [ 0  1  2  3  4  5  6  7  8  9 10 11]\n",
      "\n",
      " Transposed array \n",
      " [[ 0  4  8]\n",
      " [ 1  5  9]\n",
      " [ 2  6 10]\n",
      " [ 3  7 11]]\n"
     ]
    }
   ],
   "source": [
    "arr = np.arange(12)\n",
    "print(\"Original array\", arr)\n",
    "reshaped_arr = arr.reshape((3,4))\n",
    "print(\"\\n Reshaped array\",reshaped_arr)\n",
    "flattened_arr = reshaped_arr.flatten()\n",
    "print(\"\\n Flattened array\",flattened_arr)\n",
    "\n",
    "# ravel(returns view of original, instead of copy)\n",
    "raveled = reshaped_arr.ravel()\n",
    "print(\"Raveled array\",raveled)\n",
    "\n",
    "#Transpose \n",
    "transpose = reshaped_arr.T\n",
    "print(\"\\n Transposed array \\n\",transpose)"
   ]
  }
 ],
 "metadata": {
  "kernelspec": {
   "display_name": ".venv",
   "language": "python",
   "name": "python3"
  },
  "language_info": {
   "codemirror_mode": {
    "name": "ipython",
    "version": 3
   },
   "file_extension": ".py",
   "mimetype": "text/x-python",
   "name": "python",
   "nbconvert_exporter": "python",
   "pygments_lexer": "ipython3",
   "version": "3.13.2"
  }
 },
 "nbformat": 4,
 "nbformat_minor": 5
}
