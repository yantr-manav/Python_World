{
 "cells": [
  {
   "cell_type": "markdown",
   "id": "7a0a03f0",
   "metadata": {},
   "source": [
    "## Phase-2 : Operations on Numpy arrays"
   ]
  },
  {
   "cell_type": "code",
   "execution_count": 4,
   "id": "3c169073",
   "metadata": {},
   "outputs": [],
   "source": [
    "import numpy as np"
   ]
  },
  {
   "cell_type": "code",
   "execution_count": 5,
   "id": "6206a93e",
   "metadata": {},
   "outputs": [
    {
     "name": "stdout",
     "output_type": "stream",
     "text": [
      "Basic Slice:  [3 4 5 6 7]\n",
      "With Step: [2 4 6 8]\n",
      "Negative Indexing: 8\n"
     ]
    }
   ],
   "source": [
    "arr = np.array([1,2,3,4,5,6,7,8,9,10])\n",
    "print(\"Basic Slice: \",arr[2:7])\n",
    "\n",
    "print(\"With Step:\",arr[1:8:2])\n",
    "print(\"Negative Indexing:\",arr[-3])\n",
    "      "
   ]
  },
  {
   "cell_type": "code",
   "execution_count": 13,
   "id": "8ff74c5c",
   "metadata": {},
   "outputs": [
    {
     "name": "stdout",
     "output_type": "stream",
     "text": [
      "Specific element of 2D:  6\n",
      "Entire Row: [4 5 6]\n",
      "Entire Column: [2 5 8]\n"
     ]
    }
   ],
   "source": [
    "arr_2d = np.array([[1,2,3],[4,5,6],[7,8,9]])\n",
    "print(\"Specific element of 2D: \",arr_2d[1,2])\n",
    "print(\"Entire Row:\",arr_2d[1])\n",
    "print('Entire Column:',arr_2d[:,1])"
   ]
  },
  {
   "cell_type": "markdown",
   "id": "6ca397d1",
   "metadata": {},
   "source": [
    "## Sorting\n"
   ]
  },
  {
   "cell_type": "code",
   "execution_count": null,
   "id": "94e944ce",
   "metadata": {},
   "outputs": [
    {
     "name": "stdout",
     "output_type": "stream",
     "text": [
      "Sorted array [1 2 3 4 6 7 8 9]\n",
      "Sorted 2D array [[1 1]\n",
      " [2 2]\n",
      " [3 3]]\n"
     ]
    }
   ],
   "source": [
    "unsorted = np.array([2,6,4,7,8,9,3,1])\n",
    "print(\"Sorted array\",np.sort(unsorted))\n",
    "\n",
    "unsorted_2d = np.array([[3,1],[1,2],[2,3]])\n",
    "print(\"Sorted 2D array\",np.sort(unsorted_2d,axis=0))"
   ]
  },
  {
   "cell_type": "markdown",
   "id": "58a20199",
   "metadata": {},
   "source": [
    "## Filtering"
   ]
  },
  {
   "cell_type": "code",
   "execution_count": 20,
   "id": "59433e63",
   "metadata": {},
   "outputs": [
    {
     "name": "stdout",
     "output_type": "stream",
     "text": [
      "Even Numbers: [ 2  4  6  8 10]\n",
      "Odd Numbers: [1 3 5 7 9]\n"
     ]
    }
   ],
   "source": [
    "num = np.array([1,2,3,4,5,6,7,8,9,10])\n",
    "even_num = num[num % 2 ==0]\n",
    "print(\"Even Numbers:\",even_num)\n",
    "\n",
    "odd_num = num[num % 2 !=0]\n",
    "print(\"Odd Numbers:\",odd_num)"
   ]
  },
  {
   "cell_type": "markdown",
   "id": "07995b45",
   "metadata": {},
   "source": [
    "## filter with Mask"
   ]
  },
  {
   "cell_type": "code",
   "execution_count": 22,
   "id": "0e5e7b25",
   "metadata": {},
   "outputs": [
    {
     "name": "stdout",
     "output_type": "stream",
     "text": [
      "Numbers greater than 5: [ 6  7  8  9 10]\n"
     ]
    }
   ],
   "source": [
    "mask = num > 5\n",
    "print(\"Numbers greater than 5:\",num[mask])"
   ]
  },
  {
   "cell_type": "markdown",
   "id": "7127ec7d",
   "metadata": {},
   "source": [
    "## Fancy indexing vs np.where()"
   ]
  },
  {
   "cell_type": "code",
   "execution_count": 27,
   "id": "0bb86551",
   "metadata": {},
   "outputs": [
    {
     "name": "stdout",
     "output_type": "stream",
     "text": [
      "[1 3 5]\n",
      "Indices of numbers greater than 5: [ 6  7  8  9 10]\n"
     ]
    }
   ],
   "source": [
    "indices = [0,2,4]\n",
    "print(num[indices])\n",
    "\n",
    "where_result = np.where(num > 5)\n",
    "print(\"Indices of numbers greater than 5:\",num[where_result])"
   ]
  },
  {
   "cell_type": "code",
   "execution_count": 30,
   "id": "724f513e",
   "metadata": {},
   "outputs": [
    {
     "name": "stdout",
     "output_type": "stream",
     "text": [
      "[ 1  2  3  4  5 24 28 32 36 40]\n"
     ]
    }
   ],
   "source": [
    "condition_arr = np.where(num > 5,num * 4,num) # if (num > 5) then num *2 else num)\n",
    "print(condition_arr)"
   ]
  },
  {
   "cell_type": "markdown",
   "id": "009746e3",
   "metadata": {},
   "source": [
    "## Adding and Removing Data"
   ]
  },
  {
   "cell_type": "code",
   "execution_count": 32,
   "id": "59963b53",
   "metadata": {},
   "outputs": [
    {
     "name": "stdout",
     "output_type": "stream",
     "text": [
      "Combined array: [5 7 9]\n",
      "Concatenated array: [1 2 3 4 5 6]\n"
     ]
    }
   ],
   "source": [
    "arr1 = np.array([1,2,3])\n",
    "arr2 = np.array([4,5,6])\n",
    "combined = arr1 + arr2\n",
    "print(\"Combined array:\",combined)\n",
    "concatenated = np.concatenate((arr1,arr2))\n",
    "print(\"Concatenated array:\",concatenated)"
   ]
  },
  {
   "cell_type": "markdown",
   "id": "76c48a76",
   "metadata": {},
   "source": [
    "## Array Compatibility"
   ]
  },
  {
   "cell_type": "code",
   "execution_count": 35,
   "id": "782c91df",
   "metadata": {},
   "outputs": [
    {
     "name": "stdout",
     "output_type": "stream",
     "text": [
      "Compatability check : True\n"
     ]
    }
   ],
   "source": [
    "a = np.array([1,2,3])\n",
    "b = np.array([4,5,6])\n",
    "c = np.array([7,8,9])\n",
    "print(\"Compatability check :\", a.shape == b.shape == c.shape)"
   ]
  },
  {
   "cell_type": "code",
   "execution_count": 8,
   "id": "00438f10",
   "metadata": {},
   "outputs": [
    {
     "name": "stdout",
     "output_type": "stream",
     "text": [
      "Vertical Stack:\n",
      " [[1 2]\n",
      " [3 4]\n",
      " [5 6]]\n",
      "Horizontal Stack:\n",
      " [[1 2 7 9]\n",
      " [3 4 8 6]]\n"
     ]
    }
   ],
   "source": [
    "original = np.array([[1,2],[3,4]])\n",
    "new_row = np.array([[5,6]])\n",
    "with_row = np.vstack((original,new_row))\n",
    "print(\"Vertical Stack:\\n\",with_row)\n",
    "\n",
    "new_col = np.array([[7,9],[8,6]])\n",
    "with_col = np.hstack((original,new_col))\n",
    "print(\"Horizontal Stack:\\n\",with_col)"
   ]
  },
  {
   "cell_type": "code",
   "execution_count": 9,
   "id": "51bc56c1",
   "metadata": {},
   "outputs": [
    {
     "name": "stdout",
     "output_type": "stream",
     "text": [
      "Array after deletion: [1 2 4 5]\n"
     ]
    }
   ],
   "source": [
    "arr = np.array([1,2,3,4,5])\n",
    "deleted = np.delete(arr,2)\n",
    "print(\"Array after deletion:\",deleted)"
   ]
  }
 ],
 "metadata": {
  "kernelspec": {
   "display_name": "numpy_env",
   "language": "python",
   "name": "python3"
  },
  "language_info": {
   "codemirror_mode": {
    "name": "ipython",
    "version": 3
   },
   "file_extension": ".py",
   "mimetype": "text/x-python",
   "name": "python",
   "nbconvert_exporter": "python",
   "pygments_lexer": "ipython3",
   "version": "3.12.8"
  }
 },
 "nbformat": 4,
 "nbformat_minor": 5
}
